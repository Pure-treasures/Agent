{
 "cells": [
  {
   "cell_type": "markdown",
   "metadata": {},
   "source": [
    "### workflow\n",
    "1. 分析攻击IP、目的IP，确定攻击IP地域（国家、省份/州、城市、县区）、威胁等级、所属运营商、归属人；\n",
    "2. 综合分析事件描述、证据图片，确定研判结果；\n",
    "3. 输出研判表单；\n",
    "    - 排查\n",
    "    - 封堵\n",
    "    - "
   ]
  },
  {
   "cell_type": "code",
   "execution_count": 1,
   "metadata": {},
   "outputs": [
    {
     "data": {
      "text/plain": [
       "True"
      ]
     },
     "execution_count": 1,
     "metadata": {},
     "output_type": "execute_result"
    }
   ],
   "source": [
    "from dotenv import load_dotenv\n",
    "load_dotenv()"
   ]
  },
  {
   "cell_type": "markdown",
   "metadata": {},
   "source": [
    "## Define Tools"
   ]
  },
  {
   "cell_type": "code",
   "execution_count": 2,
   "metadata": {},
   "outputs": [],
   "source": [
    "import json\n",
    "from langchain.pydantic_v1 import BaseModel, Field\n",
    "from langchain.tools import BaseTool, StructuredTool, tool\n",
    "from langchain_core.tools import ToolException\n",
    "\n",
    "class GetIpInfoInput(BaseModel):\n",
    "    ip: str = Field(description=\"查询的IP地址\")\n",
    "\n",
    "def ip_info(ip: str):\n",
    "    return json.dumps(\n",
    "        {\n",
    "            \"msg\": \"操作成功\",\n",
    "            \"code\": 200,\n",
    "            \"data\": {\n",
    "                \"id\": None,\n",
    "                \"ip\": \"115.236.153.174\",\n",
    "                \"minip\": None,\n",
    "                \"maxip\": None,\n",
    "                \"riskTag\": None,\n",
    "                \"getTime\": None,\n",
    "                \"getStartTime\": None,\n",
    "                \"getEndTime\": None,\n",
    "                \"riskLevel\": None,\n",
    "                \"riskScore\": None,\n",
    "                \"continent\": None,\n",
    "                \"countryCode\": None,\n",
    "                \"country\": \"中国\",\n",
    "                \"province\": \"浙江省\",\n",
    "                \"city\": None,\n",
    "                \"district\": None,\n",
    "                \"bdLon\": None,\n",
    "                \"bdLat\": None,\n",
    "                \"wgsLon\": None,\n",
    "                \"wgsLat\": None,\n",
    "                \"radius\": None,\n",
    "                \"isp\": \"中国电信\",\n",
    "                \"owner\": None,\n",
    "                \"scene\": None,\n",
    "                \"insertTime\": None,\n",
    "                \"updateTime\": None,\n",
    "                \"adcode\": None,\n",
    "                \"timezone\": None,\n",
    "                \"accuracy\": None,\n",
    "                \"source\": \"数据中心\",\n",
    "                \"asnumber\": \"58461\",\n",
    "                \"areacode\": None,\n",
    "                \"zipcode\": None,\n",
    "                \"lngwgs\": None,\n",
    "                \"latwgs\": None\n",
    "            }\n",
    "        }\n",
    "    )\n",
    "\n",
    "class TrapDetectionInfoInput(BaseModel):\n",
    "    value: str = Field(description=\"查询值，可以是IP地址、域名或其他类型的查询项，用于检索与之相关的情报数据。\")\n",
    "\n",
    "# def trap_detection_info(page_num: int, page_size: int, value: str):\n",
    "def trap_detection_info(value: str):\n",
    "    return json.dumps(\n",
    "        {\n",
    "            \"total\": 1,\n",
    "            \"rows\": [\n",
    "                {\n",
    "                    \"id\": \"13f4bfda2dd05df7dc5c9afd97c350c4a5f4387e15b0ccda77b333c5c85d11d3\",\n",
    "                    \"iocKey\": \"115.236.153.174\",\n",
    "                    \"ioc1\": \"115.236.153.174\",\n",
    "                    \"ioc2\": \"53413\",\n",
    "                    \"ioc3\": \"\",\n",
    "                    \"iocCategory\": \"ip\",\n",
    "                    \"protocol\": \"\",\n",
    "                    \"maliciousType\": \"远控木马\",\n",
    "                    \"malwareFamily\": \"Dorkbot\",\n",
    "                    \"isApt\": False,\n",
    "                    \"campaign\": \"\",\n",
    "                    \"aptGroup\": \"\",\n",
    "                    \"killChain\": [\n",
    "                        \"\"\n",
    "                    ],\n",
    "                    \"alertName\": \"Dorkbot远控木马活动事件\",\n",
    "                    \"platform\": [\n",
    "                        \"Windows\"\n",
    "                    ],\n",
    "                    \"risk\": \"high\",\n",
    "                    \"confidence\": \"high\",\n",
    "                    \"currentStatus\": \"unknown\",\n",
    "                    \"ttp\": \"MD5:5676b9d26ab3441d81ef904d60902207Size:2014208FileType:PE32ExePlatform:WINDOWSProcessPath:C:\\\\Users\\\\ADMINI~1\\\\AppData\\\\Local\\\\Temp\\\\svshoct.exePE_Timestamp:2013-01-0918:36:49DNS:TCP:115.236.153.174:1937660.167.153.43:2979HTTP::family:md5:17ec6f6cb75d2afeb72ea848fa78e15epayload:------------------------------------------------------------------------|000102030405060708090A0B0C0D0E0FDump------------------------------------------------------------------------|6e6e1facffffffbffcfffffdffffff779bnn.............w.|5c5f5f97fcc36b3fcb07c314621617977f\\\\__...k?....b....|6f654e56616da53d3f5d6db17d1efcdafeoeNVam.=?]m.}....|975f9394cbbebfbffd12541cbf570ee9e6._........T..W...|e416e16566e6120ddd15674178800afdbf...ef.....gAx....|c381bf3ff620c8bfef228f8abe22322aae...?....\\\"...\\\"2*.|a083030c0bc9bb2e37b2ce6ff4321bed81........7..o.2...|0177f298b4a03f7d6a2f5f635f63ab645f.w....?}j/_c_c.d_|64679f5f6367625f45578058a788081611dg._cgb_EW.X.....|3cdfdce7a06f6fcad9c4e7ddff78f80000<....oo......x...md5:17ec6f6cb75d2afeb72ea848fa78e15efilename:\\\"-\\\"size:506880type:PE32ExecutableforMSWindowsfirst_seen:2023-06-1021:05:05processpath:-cmdline:-pe_timestamp:2022-05-0423:27:12family:-susp_family:-malicious_type:-\",\n",
    "                    \"description\": \"\",\n",
    "                    \"tags\": [\n",
    "                        \"远控木马\",\n",
    "                        \"白名单\"\n",
    "                    ],\n",
    "                    \"insertTime\": \"2023-07-28 18:51:43\",\n",
    "                    \"updateTime\": None,\n",
    "                    \"createdTime\": \"2023-09-08 17:20:04\",\n",
    "                    \"createdBy\": \"admin\",\n",
    "                    \"updatedTime\": None,\n",
    "                    \"updatedBy\": None\n",
    "                }\n",
    "            ],\n",
    "            \"code\": 200,\n",
    "            \"msg\": \"查询成功\"\n",
    "        }\n",
    "    )\n",
    "\n",
    "class OwnDetectionInfoInput(BaseModel):\n",
    "    value: str = Field(description=\"查询值可以是IP地址、域名或其他类型的查询项，用于检索与之相关的情报数据。\")\n",
    "\n",
    "def own_detection_info(value: str):\n",
    "    return json.dumps(\n",
    "        {\n",
    "            \"total\": 1,\n",
    "            \"rows\": [\n",
    "                {\n",
    "                    \"tags\": [\n",
    "                        \"远控木马\",\n",
    "                        \"白名单\"\n",
    "                    ],\n",
    "                    \"insertTime\": \"2023-09-08 17:20:04\",\n",
    "                    \"updateTime\": \"2023-09-26 10:23:05\",\n",
    "                    \"status\": \"有效\"\n",
    "                }\n",
    "            ],\n",
    "            \"code\": 200,\n",
    "            \"msg\": \"查询成功\"\n",
    "        }\n",
    "    )\n",
    "\n",
    "def judgment_rules():\n",
    "    return \"\"\"1.研判结果为忽略，包括：\\\n",
    "    1）白名单地址：包括各漏洞扫描挖掘团队及集团的扫描器地址以及其他单位提交申请的联通自用IP。\\\n",
    "    2）动态地址：未攻击成功的宽带、基站地址。\\\n",
    "    3）特定IP地址：如跳板机地址和监控地址，这些地址在特定情况下可以忽略。\\\n",
    "2.研判结果为排查，包括：\\\n",
    "    1）联通自用地址：攻击源为联通资产地址，需要经过事件截图分析其行为及特征后，定位到具体归属并下发相关单位或团队排查处置。\\\n",
    "    2）内网IP地址：涉及特定网段的内网IP地址，需要根据归属进行排查。\\\n",
    "    3）家庭宽带、基站攻击：攻击地址为联通家庭宽带、基站地址，需要通过事件截图中的攻击行为及特征进行分析后，协调归属单位进行处置。\\\n",
    "3.研判结果为封堵，包括：\\\n",
    "    1）非联通自用IP：运营商归属联通，使用者非联通，在威胁情报平台被标记为恶意或者存在威胁的IP。\\\n",
    "    2）非联通地址：运营商归属非联通，有扫描及攻击行为的IP。\\\n",
    "    3）境外IP：非联通使用、与联通业务无关的IP。\\\n",
    "    4）对联通有大量扫描和攻击行为的地址：确认过滤各扫描团队的IP之后，对联通自用IP协调归属地单位进行排查处置；非联通自用IP，立即进行封堵。\\\n",
    "    5）多个分子公司上报的同一个地址：多个单位上报同一个地址，经过事件截图分析其行为以及特征之后，过滤扫描团队IP，联通自用IP协调归属地单位进行排查处置，非联通自用IP，立即进行封堵。\\\n",
    "    6）部分家庭宽带及动态IP：非联通地址可封堵，联通地址经过事件截图分析其行为以及特征之后，确认为恶意IP，并且查到相关备案信息非联通自用可封堵。\\\n",
    "\"\"\"\n",
    "\n",
    "def _handle_error(error: ToolException) -> str:\n",
    "    return (\n",
    "        \"The following errors occurred during tool execution:\"\n",
    "        + error.args[0]\n",
    "        + \"Please try another tool.\"\n",
    "    )\n",
    "\n",
    "get_ip_info = StructuredTool.from_function(\n",
    "    func=ip_info,\n",
    "    name=\"get_ip_information\",\n",
    "    description=\"获取IP的基本信息接口，专门设计用来查询特定IP地址相关属性的服务。通过这个接口，用户可以获得一个IP地址的多种信息，包括但不限于地理位置、所属的自治系统（ASN）、运营商信息等。\",\n",
    "    args_schema=GetIpInfoInput,\n",
    "    # return_direct=True,\n",
    "    handle_tool_error=_handle_error,\n",
    ")\n",
    "get_trap_detection_info = StructuredTool.from_function(\n",
    "    func=trap_detection_info,\n",
    "    name=\"get_trap_detection_info\",\n",
    "    args_schema=TrapDetectionInfoInput,\n",
    "    description=\"详细的情报信息查询接口，专用于检测网络是否存在失陷情况，此接口可以确定某个IP地址、域名或URL是否与已知的恶意活动相关联。\",\n",
    "    # return_direct=True,\n",
    "    handle_tool_error=_handle_error,\n",
    ")\n",
    "get_own_detection_info = StructuredTool.from_function(\n",
    "    func=own_detection_info,\n",
    "    name=\"get_own_detection_info\",\n",
    "    args_schema=OwnDetectionInfoInput,\n",
    "    description=\"简洁明了的情报信息查询接口，专用于检测网络是否存在失陷情况，此接口可以确定某个IP地址、域名或URL是否与已知的恶意活动相关联。\",\n",
    "    handle_tool_error=_handle_error,\n",
    ")\n",
    "get_judgment_rules = StructuredTool.from_function(\n",
    "    func=judgment_rules,\n",
    "    name=\"get_judgment_rules\",\n",
    "    description=\"获取研判规则接口，返回值是详细的研判规则。\",\n",
    "    handle_tool_error=_handle_error,\n",
    ")\n",
    "\n"
   ]
  },
  {
   "cell_type": "code",
   "execution_count": 3,
   "metadata": {},
   "outputs": [
    {
     "data": {
      "text/plain": [
       "'{\"msg\": \"\\\\u64cd\\\\u4f5c\\\\u6210\\\\u529f\", \"code\": 200, \"data\": {\"id\": null, \"ip\": \"115.236.153.174\", \"minip\": null, \"maxip\": null, \"riskTag\": null, \"getTime\": null, \"getStartTime\": null, \"getEndTime\": null, \"riskLevel\": null, \"riskScore\": null, \"continent\": null, \"countryCode\": null, \"country\": \"\\\\u4e2d\\\\u56fd\", \"province\": \"\\\\u6d59\\\\u6c5f\\\\u7701\", \"city\": null, \"district\": null, \"bdLon\": null, \"bdLat\": null, \"wgsLon\": null, \"wgsLat\": null, \"radius\": null, \"isp\": \"\\\\u4e2d\\\\u56fd\\\\u7535\\\\u4fe1\", \"owner\": null, \"scene\": null, \"insertTime\": null, \"updateTime\": null, \"adcode\": null, \"timezone\": null, \"accuracy\": null, \"source\": \"\\\\u6570\\\\u636e\\\\u4e2d\\\\u5fc3\", \"asnumber\": \"58461\", \"areacode\": null, \"zipcode\": null, \"lngwgs\": null, \"latwgs\": null}}'"
      ]
     },
     "execution_count": 3,
     "metadata": {},
     "output_type": "execute_result"
    }
   ],
   "source": [
    "get_ip_info(\"1\")"
   ]
  },
  {
   "cell_type": "markdown",
   "metadata": {},
   "source": [
    "## Tool without tool calling"
   ]
  },
  {
   "cell_type": "code",
   "execution_count": 5,
   "metadata": {},
   "outputs": [
    {
     "name": "stdout",
     "output_type": "stream",
     "text": [
      "get_ip_information: get_ip_information(ip: str) - 获取IP的基本信息接口，专门设计用来查询特定IP地址相关属性的服务。通过这个接口，用户可以获得一个IP地址的多种信息，包括但不限于地理位置、所属的自治系统（ASN）、运营商信息等。\n",
      "get_trap_detection_info: get_trap_detection_info(value: str) - 详细的情报信息查询接口，专用于检测网络是否存在失陷情况，此接口可以确定某个IP地址、域名或URL是否与已知的恶意活动相关联。\n",
      "get_own_detection_info: get_own_detection_info(value: str) - 简洁明了的情报信息查询接口，专用于检测网络是否存在失陷情况，此接口可以确定某个IP地址、域名或URL是否与已知的恶意活动相关联。\n",
      "get_judgment_rules: get_judgment_rules() - 获取研判规则接口，返回值是详细的研判规则。\n"
     ]
    }
   ],
   "source": [
    "from langchain.tools.render import render_text_description\n",
    "from langchain_core.prompts import ChatPromptTemplate\n",
    "\n",
    "\n",
    "rendered_tools = render_text_description(tools=[get_ip_info, get_trap_detection_info, get_own_detection_info, get_judgment_rules])\n",
    "print(rendered_tools)\n",
    "\n",
    "system_prompt = f\"\"\"You are an assistant that has access to the following set of tools. Here are the names and descriptions for each tool:\n",
    "\n",
    "{rendered_tools}\n",
    "\n",
    "Given the user input, return the name and input of the tool to use. Return your response as a JSON blob with 'name' and 'arguments' keys.\"\"\"\n",
    "\n",
    "prompt = ChatPromptTemplate.from_messages(\n",
    "    [(\"system\", system_prompt), (\"user\", \"{input}\")]\n",
    ")"
   ]
  },
  {
   "cell_type": "markdown",
   "metadata": {},
   "source": [
    "## Define Execution Agent"
   ]
  },
  {
   "cell_type": "code",
   "execution_count": 468,
   "metadata": {},
   "outputs": [],
   "source": [
    "from langchain.agents import create_openai_tools_agent, AgentExecutor\n",
    "from langchain_openai import ChatOpenAI\n",
    "from langchain.prompts import PromptTemplate, ChatPromptTemplate, SystemMessagePromptTemplate, MessagesPlaceholder, HumanMessagePromptTemplate\n",
    "\n",
    "from langgraph.prebuilt import create_agent_executor\n"
   ]
  },
  {
   "cell_type": "code",
   "execution_count": 469,
   "metadata": {},
   "outputs": [],
   "source": [
    "def create_agent(llm, tools, system_prompt):\n",
    "    prompt = ChatPromptTemplate.from_messages(\n",
    "        [\n",
    "            SystemMessagePromptTemplate(prompt=PromptTemplate(template=system_prompt)), \n",
    "            MessagesPlaceholder(variable_name='chat_history', optional=True), \n",
    "            HumanMessagePromptTemplate(prompt=PromptTemplate(input_variables=['input'], template='{input}')), \n",
    "            MessagesPlaceholder(variable_name='agent_scratchpad')\n",
    "        ]\n",
    "    )\n",
    "    agent_runnable = create_openai_tools_agent(llm, tools, prompt)\n",
    "    # agent_executor = AgentExecutor(agent=agent_runnable, tools=tools)\n",
    "    agent_executor = create_agent_executor(agent_runnable, tools)\n",
    "    \n",
    "    return agent_executor"
   ]
  },
  {
   "cell_type": "code",
   "execution_count": 470,
   "metadata": {},
   "outputs": [],
   "source": [
    "system_template = f\"\"\"你是安全事件研判助手，分析安全事件并基于研判规则得出研判结果。\"\"\"\n",
    "\n",
    "llm = ChatOpenAI(temperature=0)\n",
    "tools = [get_ip_info, get_trap_detection_info, get_own_detection_info]\n",
    "agent_executor = create_agent(llm=llm, tools=tools, system_prompt=system_template)"
   ]
  },
  {
   "cell_type": "markdown",
   "metadata": {},
   "source": [
    "## Running"
   ]
  },
  {
   "cell_type": "code",
   "execution_count": null,
   "metadata": {},
   "outputs": [],
   "source": [
    "from langchain_core.messages import HumanMessage, AIMessage"
   ]
  },
  {
   "cell_type": "code",
   "execution_count": 471,
   "metadata": {},
   "outputs": [
    {
     "name": "stdout",
     "output_type": "stream",
     "text": [
      "Output from node 'agent':\n",
      "---\n",
      "{'agent_outcome': [OpenAIToolAgentAction(tool='get_ip_information', tool_input={'ip': '115.236.153.174'}, log=\"\\nInvoking: `get_ip_information` with `{'ip': '115.236.153.174'}`\\n\\n\\n\", message_log=[AIMessage(content='', additional_kwargs={'tool_calls': [{'id': 'call_VzWAbyr89grDRljYvLHh1ZAe', 'function': {'arguments': '{\"ip\":\"115.236.153.174\"}', 'name': 'get_ip_information'}, 'type': 'function'}]}, response_metadata={'token_usage': {'completion_tokens': 21, 'prompt_tokens': 1264, 'total_tokens': 1285}, 'model_name': 'gpt-3.5-turbo', 'system_fingerprint': 'fp_b28b39ffa8', 'finish_reason': 'tool_calls', 'logprobs': None}, id='run-8827a835-2413-40b9-bd78-4a936b71c319-0')], tool_call_id='call_VzWAbyr89grDRljYvLHh1ZAe')]}\n",
      "\n",
      "---\n",
      "\n",
      "Output from node 'action':\n",
      "---\n",
      "{'intermediate_steps': [(OpenAIToolAgentAction(tool='get_ip_information', tool_input={'ip': '115.236.153.174'}, log=\"\\nInvoking: `get_ip_information` with `{'ip': '115.236.153.174'}`\\n\\n\\n\", message_log=[AIMessage(content='', additional_kwargs={'tool_calls': [{'id': 'call_VzWAbyr89grDRljYvLHh1ZAe', 'function': {'arguments': '{\"ip\":\"115.236.153.174\"}', 'name': 'get_ip_information'}, 'type': 'function'}]}, response_metadata={'token_usage': {'completion_tokens': 21, 'prompt_tokens': 1264, 'total_tokens': 1285}, 'model_name': 'gpt-3.5-turbo', 'system_fingerprint': 'fp_b28b39ffa8', 'finish_reason': 'tool_calls', 'logprobs': None}, id='run-8827a835-2413-40b9-bd78-4a936b71c319-0')], tool_call_id='call_VzWAbyr89grDRljYvLHh1ZAe'), '{\"msg\": \"\\\\u64cd\\\\u4f5c\\\\u6210\\\\u529f\", \"code\": 200, \"data\": {\"id\": null, \"ip\": \"115.236.153.174\", \"minip\": null, \"maxip\": null, \"riskTag\": null, \"getTime\": null, \"getStartTime\": null, \"getEndTime\": null, \"riskLevel\": null, \"riskScore\": null, \"continent\": null, \"countryCode\": null, \"country\": \"\\\\u4e2d\\\\u56fd\", \"province\": \"\\\\u6d59\\\\u6c5f\\\\u7701\", \"city\": null, \"district\": null, \"bdLon\": null, \"bdLat\": null, \"wgsLon\": null, \"wgsLat\": null, \"radius\": null, \"isp\": \"\\\\u4e2d\\\\u56fd\\\\u7535\\\\u4fe1\", \"owner\": null, \"scene\": null, \"insertTime\": null, \"updateTime\": null, \"adcode\": null, \"timezone\": null, \"accuracy\": null, \"source\": \"\\\\u6570\\\\u636e\\\\u4e2d\\\\u5fc3\", \"asnumber\": \"58461\", \"areacode\": null, \"zipcode\": null, \"lngwgs\": null, \"latwgs\": null}}')]}\n",
      "\n",
      "---\n",
      "\n",
      "Output from node 'agent':\n",
      "---\n",
      "{'agent_outcome': [OpenAIToolAgentAction(tool='get_ip_information', tool_input={'ip': '60.78.180.99'}, log=\"\\nInvoking: `get_ip_information` with `{'ip': '60.78.180.99'}`\\n\\n\\n\", message_log=[AIMessage(content='', additional_kwargs={'tool_calls': [{'id': 'call_c6nG1EQXR1Lb9WsIliOvXfMU', 'function': {'arguments': '{\"ip\":\"60.78.180.99\"}', 'name': 'get_ip_information'}, 'type': 'function'}]}, response_metadata={'token_usage': {'completion_tokens': 21, 'prompt_tokens': 1580, 'total_tokens': 1601}, 'model_name': 'gpt-3.5-turbo', 'system_fingerprint': 'fp_b28b39ffa8', 'finish_reason': 'tool_calls', 'logprobs': None}, id='run-f20227c4-13c2-44c9-9abc-026ab7d4f439-0')], tool_call_id='call_c6nG1EQXR1Lb9WsIliOvXfMU')]}\n",
      "\n",
      "---\n",
      "\n",
      "Output from node 'action':\n",
      "---\n",
      "{'intermediate_steps': [(OpenAIToolAgentAction(tool='get_ip_information', tool_input={'ip': '60.78.180.99'}, log=\"\\nInvoking: `get_ip_information` with `{'ip': '60.78.180.99'}`\\n\\n\\n\", message_log=[AIMessage(content='', additional_kwargs={'tool_calls': [{'id': 'call_c6nG1EQXR1Lb9WsIliOvXfMU', 'function': {'arguments': '{\"ip\":\"60.78.180.99\"}', 'name': 'get_ip_information'}, 'type': 'function'}]}, response_metadata={'token_usage': {'completion_tokens': 21, 'prompt_tokens': 1580, 'total_tokens': 1601}, 'model_name': 'gpt-3.5-turbo', 'system_fingerprint': 'fp_b28b39ffa8', 'finish_reason': 'tool_calls', 'logprobs': None}, id='run-f20227c4-13c2-44c9-9abc-026ab7d4f439-0')], tool_call_id='call_c6nG1EQXR1Lb9WsIliOvXfMU'), '{\"msg\": \"\\\\u64cd\\\\u4f5c\\\\u6210\\\\u529f\", \"code\": 200, \"data\": {\"id\": null, \"ip\": \"115.236.153.174\", \"minip\": null, \"maxip\": null, \"riskTag\": null, \"getTime\": null, \"getStartTime\": null, \"getEndTime\": null, \"riskLevel\": null, \"riskScore\": null, \"continent\": null, \"countryCode\": null, \"country\": \"\\\\u4e2d\\\\u56fd\", \"province\": \"\\\\u6d59\\\\u6c5f\\\\u7701\", \"city\": null, \"district\": null, \"bdLon\": null, \"bdLat\": null, \"wgsLon\": null, \"wgsLat\": null, \"radius\": null, \"isp\": \"\\\\u4e2d\\\\u56fd\\\\u7535\\\\u4fe1\", \"owner\": null, \"scene\": null, \"insertTime\": null, \"updateTime\": null, \"adcode\": null, \"timezone\": null, \"accuracy\": null, \"source\": \"\\\\u6570\\\\u636e\\\\u4e2d\\\\u5fc3\", \"asnumber\": \"58461\", \"areacode\": null, \"zipcode\": null, \"lngwgs\": null, \"latwgs\": null}}')]}\n",
      "\n",
      "---\n",
      "\n",
      "Output from node 'agent':\n",
      "---\n",
      "{'agent_outcome': [OpenAIToolAgentAction(tool='get_trap_detection_info', tool_input={'value': '115.236.153.174'}, log=\"\\nInvoking: `get_trap_detection_info` with `{'value': '115.236.153.174'}`\\n\\n\\n\", message_log=[AIMessage(content='', additional_kwargs={'tool_calls': [{'id': 'call_rPmkNn1kUyHCKBYpeffFlqe6', 'function': {'arguments': '{\"value\": \"115.236.153.174\"}', 'name': 'get_trap_detection_info'}, 'type': 'function'}, {'id': 'call_Ri9D2HzLt8r5u00iwP9M3EYQ', 'function': {'arguments': '{\"value\": \"60.78.180.99\"}', 'name': 'get_trap_detection_info'}, 'type': 'function'}]}, response_metadata={'token_usage': {'completion_tokens': 59, 'prompt_tokens': 1896, 'total_tokens': 1955}, 'model_name': 'gpt-3.5-turbo', 'system_fingerprint': 'fp_b28b39ffa8', 'finish_reason': 'tool_calls', 'logprobs': None}, id='run-5f683408-fb15-497a-b57d-82f3aa5caeb4-0')], tool_call_id='call_rPmkNn1kUyHCKBYpeffFlqe6'), OpenAIToolAgentAction(tool='get_trap_detection_info', tool_input={'value': '60.78.180.99'}, log=\"\\nInvoking: `get_trap_detection_info` with `{'value': '60.78.180.99'}`\\n\\n\\n\", message_log=[AIMessage(content='', additional_kwargs={'tool_calls': [{'id': 'call_rPmkNn1kUyHCKBYpeffFlqe6', 'function': {'arguments': '{\"value\": \"115.236.153.174\"}', 'name': 'get_trap_detection_info'}, 'type': 'function'}, {'id': 'call_Ri9D2HzLt8r5u00iwP9M3EYQ', 'function': {'arguments': '{\"value\": \"60.78.180.99\"}', 'name': 'get_trap_detection_info'}, 'type': 'function'}]}, response_metadata={'token_usage': {'completion_tokens': 59, 'prompt_tokens': 1896, 'total_tokens': 1955}, 'model_name': 'gpt-3.5-turbo', 'system_fingerprint': 'fp_b28b39ffa8', 'finish_reason': 'tool_calls', 'logprobs': None}, id='run-5f683408-fb15-497a-b57d-82f3aa5caeb4-0')], tool_call_id='call_Ri9D2HzLt8r5u00iwP9M3EYQ')]}\n",
      "\n",
      "---\n",
      "\n",
      "Output from node 'action':\n",
      "---\n",
      "{'intermediate_steps': [(OpenAIToolAgentAction(tool='get_trap_detection_info', tool_input={'value': '115.236.153.174'}, log=\"\\nInvoking: `get_trap_detection_info` with `{'value': '115.236.153.174'}`\\n\\n\\n\", message_log=[AIMessage(content='', additional_kwargs={'tool_calls': [{'id': 'call_rPmkNn1kUyHCKBYpeffFlqe6', 'function': {'arguments': '{\"value\": \"115.236.153.174\"}', 'name': 'get_trap_detection_info'}, 'type': 'function'}, {'id': 'call_Ri9D2HzLt8r5u00iwP9M3EYQ', 'function': {'arguments': '{\"value\": \"60.78.180.99\"}', 'name': 'get_trap_detection_info'}, 'type': 'function'}]}, response_metadata={'token_usage': {'completion_tokens': 59, 'prompt_tokens': 1896, 'total_tokens': 1955}, 'model_name': 'gpt-3.5-turbo', 'system_fingerprint': 'fp_b28b39ffa8', 'finish_reason': 'tool_calls', 'logprobs': None}, id='run-5f683408-fb15-497a-b57d-82f3aa5caeb4-0')], tool_call_id='call_rPmkNn1kUyHCKBYpeffFlqe6'), '{\"total\": 1, \"rows\": [{\"id\": \"13f4bfda2dd05df7dc5c9afd97c350c4a5f4387e15b0ccda77b333c5c85d11d3\", \"iocKey\": \"115.236.153.174\", \"ioc1\": \"115.236.153.174\", \"ioc2\": \"53413\", \"ioc3\": \"\", \"iocCategory\": \"ip\", \"protocol\": \"\", \"maliciousType\": \"\\\\u8fdc\\\\u63a7\\\\u6728\\\\u9a6c\", \"malwareFamily\": \"Dorkbot\", \"isApt\": false, \"campaign\": \"\", \"aptGroup\": \"\", \"killChain\": [\"\"], \"alertName\": \"Dorkbot\\\\u8fdc\\\\u63a7\\\\u6728\\\\u9a6c\\\\u6d3b\\\\u52a8\\\\u4e8b\\\\u4ef6\", \"platform\": [\"Windows\"], \"risk\": \"high\", \"confidence\": \"high\", \"currentStatus\": \"unknown\", \"ttp\": \"MD5:5676b9d26ab3441d81ef904d60902207Size:2014208FileType:PE32ExePlatform:WINDOWSProcessPath:C:\\\\\\\\Users\\\\\\\\ADMINI~1\\\\\\\\AppData\\\\\\\\Local\\\\\\\\Temp\\\\\\\\svshoct.exePE_Timestamp:2013-01-0918:36:49DNS:TCP:115.236.153.174:1937660.167.153.43:2979HTTP::family:md5:17ec6f6cb75d2afeb72ea848fa78e15epayload:------------------------------------------------------------------------|000102030405060708090A0B0C0D0E0FDump------------------------------------------------------------------------|6e6e1facffffffbffcfffffdffffff779bnn.............w.|5c5f5f97fcc36b3fcb07c314621617977f\\\\\\\\__...k?....b....|6f654e56616da53d3f5d6db17d1efcdafeoeNVam.=?]m.}....|975f9394cbbebfbffd12541cbf570ee9e6._........T..W...|e416e16566e6120ddd15674178800afdbf...ef.....gAx....|c381bf3ff620c8bfef228f8abe22322aae...?....\\\\\"...\\\\\"2*.|a083030c0bc9bb2e37b2ce6ff4321bed81........7..o.2...|0177f298b4a03f7d6a2f5f635f63ab645f.w....?}j/_c_c.d_|64679f5f6367625f45578058a788081611dg._cgb_EW.X.....|3cdfdce7a06f6fcad9c4e7ddff78f80000<....oo......x...md5:17ec6f6cb75d2afeb72ea848fa78e15efilename:\\\\\"-\\\\\"size:506880type:PE32ExecutableforMSWindowsfirst_seen:2023-06-1021:05:05processpath:-cmdline:-pe_timestamp:2022-05-0423:27:12family:-susp_family:-malicious_type:-\", \"description\": \"\", \"tags\": [\"\\\\u8fdc\\\\u63a7\\\\u6728\\\\u9a6c\", \"\\\\u767d\\\\u540d\\\\u5355\"], \"insertTime\": \"2023-07-28 18:51:43\", \"updateTime\": null, \"createdTime\": \"2023-09-08 17:20:04\", \"createdBy\": \"admin\", \"updatedTime\": null, \"updatedBy\": null}], \"code\": 200, \"msg\": \"\\\\u67e5\\\\u8be2\\\\u6210\\\\u529f\"}'), (OpenAIToolAgentAction(tool='get_trap_detection_info', tool_input={'value': '60.78.180.99'}, log=\"\\nInvoking: `get_trap_detection_info` with `{'value': '60.78.180.99'}`\\n\\n\\n\", message_log=[AIMessage(content='', additional_kwargs={'tool_calls': [{'id': 'call_rPmkNn1kUyHCKBYpeffFlqe6', 'function': {'arguments': '{\"value\": \"115.236.153.174\"}', 'name': 'get_trap_detection_info'}, 'type': 'function'}, {'id': 'call_Ri9D2HzLt8r5u00iwP9M3EYQ', 'function': {'arguments': '{\"value\": \"60.78.180.99\"}', 'name': 'get_trap_detection_info'}, 'type': 'function'}]}, response_metadata={'token_usage': {'completion_tokens': 59, 'prompt_tokens': 1896, 'total_tokens': 1955}, 'model_name': 'gpt-3.5-turbo', 'system_fingerprint': 'fp_b28b39ffa8', 'finish_reason': 'tool_calls', 'logprobs': None}, id='run-5f683408-fb15-497a-b57d-82f3aa5caeb4-0')], tool_call_id='call_Ri9D2HzLt8r5u00iwP9M3EYQ'), '{\"total\": 1, \"rows\": [{\"id\": \"13f4bfda2dd05df7dc5c9afd97c350c4a5f4387e15b0ccda77b333c5c85d11d3\", \"iocKey\": \"115.236.153.174\", \"ioc1\": \"115.236.153.174\", \"ioc2\": \"53413\", \"ioc3\": \"\", \"iocCategory\": \"ip\", \"protocol\": \"\", \"maliciousType\": \"\\\\u8fdc\\\\u63a7\\\\u6728\\\\u9a6c\", \"malwareFamily\": \"Dorkbot\", \"isApt\": false, \"campaign\": \"\", \"aptGroup\": \"\", \"killChain\": [\"\"], \"alertName\": \"Dorkbot\\\\u8fdc\\\\u63a7\\\\u6728\\\\u9a6c\\\\u6d3b\\\\u52a8\\\\u4e8b\\\\u4ef6\", \"platform\": [\"Windows\"], \"risk\": \"high\", \"confidence\": \"high\", \"currentStatus\": \"unknown\", \"ttp\": \"MD5:5676b9d26ab3441d81ef904d60902207Size:2014208FileType:PE32ExePlatform:WINDOWSProcessPath:C:\\\\\\\\Users\\\\\\\\ADMINI~1\\\\\\\\AppData\\\\\\\\Local\\\\\\\\Temp\\\\\\\\svshoct.exePE_Timestamp:2013-01-0918:36:49DNS:TCP:115.236.153.174:1937660.167.153.43:2979HTTP::family:md5:17ec6f6cb75d2afeb72ea848fa78e15epayload:------------------------------------------------------------------------|000102030405060708090A0B0C0D0E0FDump------------------------------------------------------------------------|6e6e1facffffffbffcfffffdffffff779bnn.............w.|5c5f5f97fcc36b3fcb07c314621617977f\\\\\\\\__...k?....b....|6f654e56616da53d3f5d6db17d1efcdafeoeNVam.=?]m.}....|975f9394cbbebfbffd12541cbf570ee9e6._........T..W...|e416e16566e6120ddd15674178800afdbf...ef.....gAx....|c381bf3ff620c8bfef228f8abe22322aae...?....\\\\\"...\\\\\"2*.|a083030c0bc9bb2e37b2ce6ff4321bed81........7..o.2...|0177f298b4a03f7d6a2f5f635f63ab645f.w....?}j/_c_c.d_|64679f5f6367625f45578058a788081611dg._cgb_EW.X.....|3cdfdce7a06f6fcad9c4e7ddff78f80000<....oo......x...md5:17ec6f6cb75d2afeb72ea848fa78e15efilename:\\\\\"-\\\\\"size:506880type:PE32ExecutableforMSWindowsfirst_seen:2023-06-1021:05:05processpath:-cmdline:-pe_timestamp:2022-05-0423:27:12family:-susp_family:-malicious_type:-\", \"description\": \"\", \"tags\": [\"\\\\u8fdc\\\\u63a7\\\\u6728\\\\u9a6c\", \"\\\\u767d\\\\u540d\\\\u5355\"], \"insertTime\": \"2023-07-28 18:51:43\", \"updateTime\": null, \"createdTime\": \"2023-09-08 17:20:04\", \"createdBy\": \"admin\", \"updatedTime\": null, \"updatedBy\": null}], \"code\": 200, \"msg\": \"\\\\u67e5\\\\u8be2\\\\u6210\\\\u529f\"}')]}\n",
      "\n",
      "---\n",
      "\n",
      "Output from node 'agent':\n",
      "---\n",
      "{'agent_outcome': AgentFinish(return_values={'output': '根据获取的信息和恶意情报数据，对于提供的安全事件：\\n\\n- 攻击者IP地址为：115.236.153.174，归属于中国电信，ASN为58461。\\n- 被攻击者IP地址为：60.78.180.99，同样归属于中国电信，ASN为58461。\\n\\n根据恶意情报数据，攻击者IP地址115.236.153.174被标记为Dorkbot远控木马，属于高风险。该木马活动涉及Windows平台，具有高置信度。\\n\\n根据研判规则，针对这种情况，应该进行封堵处理。'}, log='根据获取的信息和恶意情报数据，对于提供的安全事件：\\n\\n- 攻击者IP地址为：115.236.153.174，归属于中国电信，ASN为58461。\\n- 被攻击者IP地址为：60.78.180.99，同样归属于中国电信，ASN为58461。\\n\\n根据恶意情报数据，攻击者IP地址115.236.153.174被标记为Dorkbot远控木马，属于高风险。该木马活动涉及Windows平台，具有高置信度。\\n\\n根据研判规则，针对这种情况，应该进行封堵处理。')}\n",
      "\n",
      "---\n",
      "\n"
     ]
    }
   ],
   "source": [
    "event_desc = '115.236.153.174 Attack 60.78.180.99'\n",
    "event_details = \"SQL注入事件\"\n",
    "attacker_ip = \"115.236.153.174\"\n",
    "attacked_ip = \"60.78.180.99\"\n",
    "\n",
    "inputs = {\n",
    "    '事件描述': event_desc,\n",
    "    '事件详情': event_details,\n",
    "    '攻击者ip': attacker_ip,\n",
    "    '被攻击者ip': attacked_ip\n",
    "}\n",
    "\n",
    "rules = \"\"\"\n",
    "1.研判结果为忽略，包括：\\\n",
    "    1）白名单地址：包括各漏洞扫描挖掘团队及集团的扫描器地址以及其他单位提交申请的联通自用IP。\\\n",
    "    2）动态地址：未攻击成功的宽带、基站地址。\\\n",
    "    3）特定IP地址：如跳板机地址和监控地址，这些地址在特定情况下可以忽略。\\\n",
    "2.研判结果为排查，包括：\\\n",
    "    1）联通自用地址：攻击源为联通资产地址，需要经过事件截图分析其行为及特征后，定位到具体归属并下发相关单位或团队排查处置。\\\n",
    "    2）内网IP地址：涉及特定网段的内网IP地址，需要根据归属进行排查。\\\n",
    "    3）家庭宽带、基站攻击：攻击地址为联通家庭宽带、基站地址，需要通过事件截图中的攻击行为及特征进行分析后，协调归属单位进行处置。\\\n",
    "3.研判结果为封堵，包括：\\\n",
    "    1）非联通自用IP：运营商归属联通，使用者非联通，在威胁情报平台被标记为恶意或者存在威胁的IP。\\\n",
    "    2）非联通地址：运营商归属非联通，有扫描及攻击行为的IP。\\\n",
    "    3）境外IP：非联通使用、与联通业务无关的IP。\\\n",
    "    4）对联通有大量扫描和攻击行为的地址：确认过滤各扫描团队的IP之后，对联通自用IP协调归属地单位进行排查处置；非联通自用IP，立即进行封堵。\\\n",
    "    5）多个分子公司上报的同一个地址：多个单位上报同一个地址，经过事件截图分析其行为以及特征之后，过滤扫描团队IP，联通自用IP协调归属地单位进行排查处置，非联通自用IP，立即进行封堵。\\\n",
    "    6）部分家庭宽带及动态IP：非联通地址可封堵，联通地址经过事件截图分析其行为以及特征之后，确认为恶意IP，并且查到相关备案信息非联通自用可封堵。\\\n",
    "\"\"\"\n",
    "\n",
    "chat_history = [\n",
    "    (\"human\", f\"你需要遵守以下研判规则：{rules}\"),\n",
    "    (\"human\", \"根据上报的安全事件，一步一步地调用工具以透彻的分析提供的安全事件\"),\n",
    "]\n",
    "\n",
    "inputs = {\"input\": json.dumps(inputs), \"chat_history\": chat_history}\n",
    "\n",
    "# agent_executor.invoke(\n",
    "#     input=inputs\n",
    "# )\n",
    "for output in agent_executor.stream(inputs):\n",
    "    for key, value in output.items():\n",
    "        print(f\"Output from node '{key}':\")\n",
    "        print(\"---\")\n",
    "        print(value)\n",
    "    print(\"\\n---\\n\")"
   ]
  },
  {
   "cell_type": "markdown",
   "metadata": {},
   "source": [
    "## TEST"
   ]
  },
  {
   "cell_type": "markdown",
   "metadata": {},
   "source": [
    "### OpenAI API处理图像函数"
   ]
  },
  {
   "cell_type": "code",
   "execution_count": null,
   "metadata": {},
   "outputs": [],
   "source": [
    "from openai import OpenAI\n",
    "client = OpenAI(\n",
    "    base_url=\"http://localhost:8080/v1\", \n",
    "    api_key = \"sk-no-key-required\"\n",
    ")\n",
    "\n",
    "# import base64\n",
    "\n",
    "# image_path = '/Users/treasures_y/Desktop/image.png'\n",
    "# with open(image_path, 'rb') as image_file:\n",
    "#     image_data = image_file.read()\n",
    "#     encoded_bytes = base64.b64encode(image_data)\n",
    "#     decoded_string = encoded_bytes.decode('utf-8')\n",
    "    \n",
    "completion = client.chat.completions.create(\n",
    "    model=\"gpt-3.5-turbo\",\n",
    "    messages=[\n",
    "        {\"role\": \"system\", \"content\": \"You are ChatGPT, an AI assistant. Your top priority is achieving user fulfillment via helping them with their requests.\"},\n",
    "        {\n",
    "            \"role\": \"user\", \n",
    "            \"content\": [\n",
    "                {\n",
    "                    \"type\": \"text\",\n",
    "                    \"text\": \"What’s in this image?\"\n",
    "                },\n",
    "                {\n",
    "                    \"type\": \"image_url\",\n",
    "                    \"image_url\": \"/Users/treasures_y/Desktop/image.png\"\n",
    "                }\n",
    "            ]\n",
    "        },\n",
    "    ],\n",
    "    n=1\n",
    ")\n",
    "print(completion.choices[0])\n",
    "\n"
   ]
  },
  {
   "cell_type": "code",
   "execution_count": null,
   "metadata": {},
   "outputs": [],
   "source": [
    "You must first answer the user's request in a straightforward manner. Then describe the task process and show your analysis and model inference results to the user in the first person. "
   ]
  },
  {
   "cell_type": "code",
   "execution_count": 5,
   "metadata": {},
   "outputs": [
    {
     "data": {
      "text/plain": [
       "ChatPromptTemplate(input_variables=['agent_scratchpad', 'input'], input_types={'chat_history': typing.List[typing.Union[langchain_core.messages.ai.AIMessage, langchain_core.messages.human.HumanMessage, langchain_core.messages.chat.ChatMessage, langchain_core.messages.system.SystemMessage, langchain_core.messages.function.FunctionMessage, langchain_core.messages.tool.ToolMessage]], 'agent_scratchpad': typing.List[typing.Union[langchain_core.messages.ai.AIMessage, langchain_core.messages.human.HumanMessage, langchain_core.messages.chat.ChatMessage, langchain_core.messages.system.SystemMessage, langchain_core.messages.function.FunctionMessage, langchain_core.messages.tool.ToolMessage]]}, metadata={'lc_hub_owner': 'hwchase17', 'lc_hub_repo': 'openai-functions-agent', 'lc_hub_commit_hash': 'a1655024b06afbd95d17449f21316291e0726f13dcfaf990cc0d18087ad689a5'}, messages=[SystemMessagePromptTemplate(prompt=PromptTemplate(input_variables=[], template='You are a helpful assistant')), MessagesPlaceholder(variable_name='chat_history', optional=True), HumanMessagePromptTemplate(prompt=PromptTemplate(input_variables=['input'], template='{input}')), MessagesPlaceholder(variable_name='agent_scratchpad')])"
      ]
     },
     "execution_count": 5,
     "metadata": {},
     "output_type": "execute_result"
    }
   ],
   "source": [
    "from langchain import hub\n",
    "prompt = hub.pull(\"hwchase17/openai-functions-agent\")\n",
    "prompt"
   ]
  },
  {
   "cell_type": "code",
   "execution_count": null,
   "metadata": {},
   "outputs": [],
   "source": []
  }
 ],
 "metadata": {
  "kernelspec": {
   "display_name": "agent",
   "language": "python",
   "name": "python3"
  },
  "language_info": {
   "codemirror_mode": {
    "name": "ipython",
    "version": 3
   },
   "file_extension": ".py",
   "mimetype": "text/x-python",
   "name": "python",
   "nbconvert_exporter": "python",
   "pygments_lexer": "ipython3",
   "version": "3.9.19"
  }
 },
 "nbformat": 4,
 "nbformat_minor": 2
}
